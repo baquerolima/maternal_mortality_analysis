{
 "cells": [
  {
   "cell_type": "code",
   "execution_count": null,
   "id": "0959da90",
   "metadata": {},
   "outputs": [],
   "source": [
    "import pandas as pd"
   ]
  },
  {
   "cell_type": "code",
   "execution_count": null,
   "id": "b11d1394",
   "metadata": {},
   "outputs": [],
   "source": []
  },
  {
   "cell_type": "code",
   "execution_count": null,
   "id": "836a3395",
   "metadata": {},
   "outputs": [],
   "source": [
    "def reading_sim(ano):\n",
    "    return pd.read_csv(f'dados_SIM/dados_{ano}.csv', sep=';', encoding='latin1', low_memory=False)"
   ]
  },
  {
   "cell_type": "code",
   "execution_count": null,
   "id": "aa2aabb4",
   "metadata": {},
   "outputs": [],
   "source": [
    "sim = [reading_sim(a) for a in range(1979, 2022)]"
   ]
  },
  {
   "cell_type": "code",
   "execution_count": null,
   "id": "6d9707eb",
   "metadata": {},
   "outputs": [],
   "source": [
    "for i, df in enumerate(sim):\n",
    "    print(f'Em {i + 1979} no Brasil, o número de pessoas falecidas foi de {df.shape[0]:9,} pessoas')"
   ]
  }
 ],
 "metadata": {
  "kernelspec": {
   "display_name": "Python 3 (ipykernel)",
   "language": "python",
   "name": "python3"
  },
  "language_info": {
   "codemirror_mode": {
    "name": "ipython",
    "version": 3
   },
   "file_extension": ".py",
   "mimetype": "text/x-python",
   "name": "python",
   "nbconvert_exporter": "python",
   "pygments_lexer": "ipython3",
   "version": "3.11.2"
  }
 },
 "nbformat": 4,
 "nbformat_minor": 5
}
